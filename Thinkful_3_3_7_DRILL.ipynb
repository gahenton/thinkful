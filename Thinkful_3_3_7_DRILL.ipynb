{
 "cells": [
  {
   "cell_type": "code",
   "execution_count": 128,
   "metadata": {},
   "outputs": [],
   "source": [
    "import numpy as np\n",
    "import pandas as pd\n",
    "import scipy\n",
    "import matplotlib.pyplot as plt\n",
    "%matplotlib inline"
   ]
  },
  {
   "cell_type": "code",
   "execution_count": 129,
   "metadata": {},
   "outputs": [
    {
     "data": {
      "image/png": "[encoded data removed]",
      "text/plain": [
       "<Figure size 432x288 with 1 Axes>"
      ]
     },
     "metadata": {
      "needs_background": "light"
     },
     "output_type": "display_data"
    }
   ],
   "source": [
    "# Creating the populations. Can interpret as the results of flipping a coin 10 times, tested 10,000 times.\n",
    "\n",
    "pop1 = np.random.binomial(10, 0.2, 10000)\n",
    "pop2 = np.random.binomial(10, 0.5, 10000)\n",
    "\n",
    "# Let's make histograms for the two groups.\n",
    "\n",
    "plt.hist(pop1, alpha=0.5, label='Population 1')\n",
    "plt.hist(pop2, alpha=0.5, label='Population 2')\n",
    "plt.legend(loc='upper right')\n",
    "plt.show()"
   ]
  },
  {
   "cell_type": "code",
   "execution_count": 130,
   "metadata": {},
   "outputs": [
    {
     "data": {
      "image/png": "[encoded data removed]",
      "text/plain": [
       "<Figure size 432x288 with 1 Axes>"
      ]
     },
     "metadata": {
      "needs_background": "light"
     },
     "output_type": "display_data"
    },
    {
     "name": "stdout",
     "output_type": "stream",
     "text": [
      "Sample 1 MEAN is:  1.95\n",
      "Sample 2 MEAN is:  5.25\n",
      "Sample 1 STANDARD DEVIATION is:  1.1169153951844337\n",
      "Sample 2 STANDARD DEVIATION is:  1.4722431864335457\n",
      "The DIFFERENCE betwean means is:  3.3\n",
      "The T-VALUE is:  17.857414764715045\n",
      "scipy.stats calculates t-value and p-value: \n",
      "Ttest_indResult(statistic=17.76790335009374, pvalue=7.961981289915803e-42)\n"
     ]
    }
   ],
   "source": [
    "# Let's take random samples from the populations and assign the values to variables.\n",
    "sample1 = np.random.choice(pop1, 100, replace=True)\n",
    "sample2 = np.random.choice(pop2, 100, replace=True)\n",
    "\n",
    "plt.hist(sample1, alpha=0.5, label='Sample 1')\n",
    "plt.hist(sample2, alpha=0.5, label='Sample 2')\n",
    "plt.legend(loc='upper right')\n",
    "plt.show()\n",
    "\n",
    "print('Sample 1 MEAN is: ', sample1.mean())\n",
    "print('Sample 2 MEAN is: ', sample2.mean())\n",
    "print('Sample 1 STANDARD DEVIATION is: ', sample1.std())\n",
    "print('Sample 2 STANDARD DEVIATION is: ', sample2.std())\n",
    "\n",
    "# Compute the difference between the two sample means.\n",
    "diff=sample2.mean( ) - sample1.mean()\n",
    "print('The DIFFERENCE betwean means is: ', diff)\n",
    "\n",
    "size = np.array([len(sample1), len(sample2)])\n",
    "sd = np.array([sample1.std(), sample2.std()])\n",
    "\n",
    "# The squared standard deviations are divided by the sample size and summed, then we take\n",
    "# the square root of the sum. \n",
    "diff_se = (sum(sd ** 2 / size)) ** 0.5  \n",
    "\n",
    "# The difference between the means divided by the standard error: T-value.  \n",
    "print('The T-VALUE is: ', diff/diff_se)\n",
    "print('scipy.stats calculates t-value and p-value: ')\n",
    "from scipy.stats import ttest_ind\n",
    "print(ttest_ind(sample2, sample1, equal_var=False))"
   ]
  },
  {
   "cell_type": "code",
   "execution_count": 131,
   "metadata": {},
   "outputs": [
    {
     "data": {
      "image/png": "[encoded data removed]",
      "text/plain": [
       "<Figure size 432x288 with 1 Axes>"
      ]
     },
     "metadata": {
      "needs_background": "light"
     },
     "output_type": "display_data"
    },
    {
     "name": "stdout",
     "output_type": "stream",
     "text": [
      "The Larger Sample 1 MEAN is:  1.922\n",
      "The Larger Sample 2 MEAN is:  5.025\n",
      "The Larger Sample 1 SD is:  1.2766816361176345\n",
      "The Larger Sample 2 SD is:  1.5837850232907242\n",
      "The DIFFERENCE between means is:  3.1030000000000006\n",
      "The T-VALUE is:  48.235997316950915\n",
      "scipy.stats calculates t-value and p-value: \n",
      "Ttest_indResult(statistic=48.21187328577615, pvalue=0.0)\n"
     ]
    }
   ],
   "source": [
    "#(1.) Increasing sample sizes from 100 to 1000. \n",
    "# Prediction: The mean should be about the same and the standard deviation\n",
    "# will decrease. Results: values vary, but means roughly the same.\n",
    "\n",
    "larger_sample1 = np.random.choice(pop1, 1000, replace=True)\n",
    "larger_sample2 = np.random.choice(pop2, 1000, replace=True)\n",
    "\n",
    "plt.hist(larger_sample1, alpha=0.5, label='Larger Sample 1')\n",
    "plt.hist(larger_sample2, alpha=0.5, label='Larger Sample 2')\n",
    "plt.legend(loc='upper right')\n",
    "plt.show()\n",
    "\n",
    "print('The Larger Sample 1 MEAN is: ', larger_sample1.mean())\n",
    "print('The Larger Sample 2 MEAN is: ', larger_sample2.mean())\n",
    "print('The Larger Sample 1 SD is: ', larger_sample1.std())\n",
    "print('The Larger Sample 2 SD is: ', larger_sample2.std())\n",
    "\n",
    "# Compute the difference between the two larger sample means.\n",
    "diff2 = larger_sample2.mean() - larger_sample1.mean()\n",
    "print('The DIFFERENCE between means is: ', diff2)\n",
    "\n",
    "size2 = np.array([len(larger_sample1), len(larger_sample2)])\n",
    "sd2 = np.array([larger_sample1.std(), larger_sample2.std()])\n",
    "\n",
    "# The squared standard deviations are divided by the sample size and summed, then we take\n",
    "# the square root of the sum. \n",
    "diff2_se = (sum(sd2 ** 2 / size2)) ** 0.5  \n",
    "\n",
    "#The difference between the means divided by the standard error: T-value.  \n",
    "print('The T-VALUE is: ', diff2/diff2_se)\n",
    "print('scipy.stats calculates t-value and p-value: ')\n",
    "from scipy.stats import ttest_ind\n",
    "print(ttest_ind(larger_sample2, larger_sample1, equal_var=False))"
   ]
  },
  {
   "cell_type": "code",
   "execution_count": 132,
   "metadata": {},
   "outputs": [
    {
     "data": {
      "image/png": "[encoded data removed]",
      "text/plain": [
       "<Figure size 432x288 with 1 Axes>"
      ]
     },
     "metadata": {
      "needs_background": "light"
     },
     "output_type": "display_data"
    },
    {
     "name": "stdout",
     "output_type": "stream",
     "text": [
      "The Tiny Sample 1 MEAN is:  2.05\n",
      "The Tiny Sample 2 MEAN is:  4.5\n",
      "The Tiny Sample 1 SD is:  1.3592277219068185\n",
      "The Tiny Sample 2 SD is:  1.3228756555322954\n",
      "The DIFFERENCE between means is:  2.45\n",
      "The T-VALUE is:  5.776711530655536\n",
      "scipy calculates t-value and p-value: \n",
      "Ttest_indResult(statistic=5.6304419278586115, pvalue=1.8336080198156242e-06)\n"
     ]
    }
   ],
   "source": [
    "# Decreasing sample sizes from 100 to 20. \n",
    "# Prediction: The mean should be about the same and the standard deviation\n",
    "# will increase. Results: values vary, but means roughly the same.\n",
    "# RESULT: varies each time I run the code.\n",
    "\n",
    "tiny_sample1 = np.random.choice(pop1, 20, replace=True)\n",
    "tiny_sample2 = np.random.choice(pop2, 20, replace=True)\n",
    "\n",
    "plt.hist(tiny_sample1, alpha=0.5, label='Tiny Sample 1')\n",
    "plt.hist(tiny_sample2, alpha=0.5, label='Tiny Sample 2')\n",
    "plt.legend(loc='upper right')\n",
    "plt.show()\n",
    "\n",
    "print('The Tiny Sample 1 MEAN is: ', tiny_sample1.mean())\n",
    "print('The Tiny Sample 2 MEAN is: ', tiny_sample2.mean())\n",
    "print('The Tiny Sample 1 SD is: ', tiny_sample1.std())\n",
    "print('The Tiny Sample 2 SD is: ', tiny_sample2.std())\n",
    "\n",
    "\n",
    "# Compute the difference between the two sample means.\n",
    "diff3=tiny_sample2.mean( ) - tiny_sample1.mean()\n",
    "print('The DIFFERENCE between means is: ', diff3)\n",
    "\n",
    "size3 = np.array([len(tiny_sample1), len(tiny_sample2)])\n",
    "sd3 = np.array([tiny_sample1.std(), tiny_sample2.std()])\n",
    "\n",
    "# The squared standard deviations are divided by the sample size and summed, then we take\n",
    "# the square root of the sum. \n",
    "diff3_se = (sum(sd3 ** 2 / size3)) ** 0.5  \n",
    "\n",
    "#The difference between the means divided by the standard error: T-value.  \n",
    "print('The T-VALUE is: ', diff3/diff3_se)\n",
    "print('scipy calculates t-value and p-value: ')\n",
    "from scipy.stats import ttest_ind\n",
    "print(ttest_ind(tiny_sample2, tiny_sample1, equal_var=False))"
   ]
  },
  {
   "cell_type": "code",
   "execution_count": 148,
   "metadata": {},
   "outputs": [],
   "source": [
    "#2. Next, we will look at what effect comes from changing the probability to .3 for pop1. We will \n",
    "# then change the probability to .4 and see what changes and what stays the same. The old calculations are made above\n",
    "# this comment box and the new calculations are made below.\n",
    "\n",
    "# With sample size 100, the mean varies but is close, the SD for Sample 2 goes up, and the P-value changes a lot.\n",
    "# With samples size 1000, the mean is even closer but still varies, SD varies, the P-value wildy changes,\n",
    "# and the T-value jumps to 40+!\n",
    "# With the sample size 20, we see the most variance. Smaller samples are more likely to vary more widely. \n",
    "\n",
    "\n",
    "# ORIGINAL RESULTS (100 samples .2 for pop1 remains unchanged)\n",
    "# Sample 1 MEAN is:  2.0\n",
    "# Sample 2 MEAN is:  4.77\n",
    "# Sample 1 STANDARD DEVIATION is:  1.3038404810405297\n",
    "# Sample 2 STANDARD DEVIATION is:  1.362754563375225\n",
    "# The DIFFERENCE betwean means is:  2.7699999999999996\n",
    "# The T-VALUE is:  14.686953902669392\n",
    "# scipy.stats calculates t-value and p-value: \n",
    "# Ttest_indResult(statistic=14.613334622520089, pvalue=2.8421231210221136e-33)\n",
    "\n",
    "# .3 RESULTS (100 samples) \n",
    "\n",
    "# New Sample 1 MEAN is:  1.79\n",
    "# New Sample 2 MEAN is:  5.01\n",
    "# New Sample 1 STANDARD DEVIATION is:  1.2906974858579372\n",
    "# New Sample 2 STANDARD DEVIATION is:  1.5523852614605693\n",
    "# The DIFFERENCE betwean means is:  3.2199999999999998\n",
    "# The T-VALUE is:  15.949586901911477\n",
    "# scipy.stats calculates t-value and p-value: \n",
    "# Ttest_indResult(statistic=15.869638594442216, pvalue=9.260524678486623e-37)\n",
    "\n",
    "# .4 RESULTS (100 samples)\n",
    "# New Sample 1 MEAN is:  1.85\n",
    "# New Sample 2 MEAN is:  4.97\n",
    "# New Sample 1 STANDARD DEVIATION is:  1.1346805717910218\n",
    "# New Sample 2 STANDARD DEVIATION is:  1.6090680532531867\n",
    "# The DIFFERENCE betwean means is:  3.1199999999999997\n",
    "# The T-VALUE is:  15.84634468383905\n",
    "# scipy.stats calculates t-value and p-value: \n",
    "# Ttest_indResult(statistic=15.766913884481129, pvalue=1.2924790835073293e-35)\n",
    "#\n",
    "# ORIGINAL RESULTS (1000 samples)\n",
    "# The Larger Sample 1 MEAN is:  2.018\n",
    "# The Larger Sample 2 MEAN is:  4.995\n",
    "# The Larger Sample 1 SD is:  1.2867307410643456\n",
    "# The Larger Sample 2 SD is:  1.5770145845869659\n",
    "# The DIFFERENCE between means is:  2.9770000000000003\n",
    "# The T-VALUE is:  46.25297383324259\n",
    "# scipy.stats calculates t-value and p-value: \n",
    "# Ttest_indResult(statistic=46.22984156181162, pvalue=2.7510039266e-314)\n",
    "# \n",
    "# .3 RESULTS (1000 samples)\n",
    "# New Larger Sample 1 MEAN is:  2.012\n",
    "# New Larger Sample 2 MEAN is:  4.967\n",
    "# New Larger Sample 1 STANDARD DEVIATION is:  1.2328243994989716\n",
    "# New Larger Sample 2 STANDARD DEVIATION is:  1.547226874120276\n",
    "# The DIFFERENCE betwean means is:  2.9549999999999996\n",
    "# The T-VALUE is:  47.23457387011434\n",
    "# scipy.stats calculates t-value and p-value: \n",
    "# Ttest_indResult(statistic=47.21095067590354, pvalue=1e-322)\n",
    "\n",
    "# .4 RESULTS (1000 samples)\n",
    "#\n",
    "# New Larger Sample 1 MEAN is:  1.97\n",
    "# New Larger Sample 2 MEAN is:  4.955\n",
    "# New Larger Sample 1 STANDARD DEVIATION is:  1.2558264211267416\n",
    "# New Larger Sample 2 STANDARD DEVIATION is:  1.6434643287884287\n",
    "# The DIFFERENCE betwean means is:  2.9850000000000003\n",
    "# The T-VALUE is:  45.63732056840753\n",
    "# scipy.stats calculates t-value and p-value: \n",
    "# Ttest_indResult(statistic=45.614496200604144, pvalue=5.4456573931617693e-306)\n",
    "\n",
    "# ORIGINAL RESULTS (20 samples)\n",
    "# The Tiny Sample 1 MEAN is:  2.1\n",
    "# The Tiny Sample 2 MEAN is:  5.15\n",
    "# The Tiny Sample 1 SD is:  0.9433981132056604\n",
    "# The Tiny Sample 2 SD is:  1.4239030865898141\n",
    "# The DIFFERENCE between means is:  3.0500000000000003\n",
    "# The T-VALUE is:  7.985634059246139\n",
    "# scipy calculates t-value and p-value: \n",
    "# Ttest_indResult(statistic=7.783433288837412, pvalue=5.746351334289924e-09)\n",
    "\n",
    "# .3 RESULTS (20 samples)\n",
    "#\n",
    "# New Tiny Sample 1 MEAN is:  1.95\n",
    "# New Tiny Sample 2 MEAN is:  4.95\n",
    "# New Tiny Sample 1 STANDARD DEVIATION is:  1.3219304066402284\n",
    "# New Tiny Sample 2 STANDARD DEVIATION is:  1.8020821290940099\n",
    "# The DIFFERENCE betwean means is:  3.0\n",
    "# The T-VALUE is:  6.003002251876643\n",
    "# scipy.stats calculates t-value and p-value: \n",
    "# Ttest_indResult(statistic=5.851002840046674, pvalue=1.2311063000900368e-06)\n",
    "\n",
    "# .4 RESULTS (20 samples)\n",
    "#\n",
    "# New Tiny Sample 1 MEAN is:  2.0\n",
    "# New Tiny Sample 2 MEAN is:  4.65\n",
    "# New Tiny Sample 1 STANDARD DEVIATION is:  0.8944271909999159\n",
    "# New Tiny Sample 2 STANDARD DEVIATION is:  1.061838029079765\n",
    "# The DIFFERENCE betwean means is:  2.6500000000000004\n",
    "# The T-VALUE is:  8.536182241687113\n",
    "# scipy.stats calculates t-value and p-value: \n",
    "# Ttest_indResult(statistic=8.320041279953466, pvalue=5.430639338659368e-10)\n",
    "\n"
   ]
  },
  {
   "cell_type": "code",
   "execution_count": 134,
   "metadata": {},
   "outputs": [
    {
     "data": {
      "image/png": "[encoded data removed]",
      "text/plain": [
       "<Figure size 432x288 with 1 Axes>"
      ]
     },
     "metadata": {
      "needs_background": "light"
     },
     "output_type": "display_data"
    }
   ],
   "source": [
    "# Here is where we get to make new populations and play with the probability for pop1.\n",
    "new_pop1 = np.random.binomial(10, 0.4, 10000)\n",
    "new_pop2 = np.random.binomial(10, 0.5, 10000)\n",
    "\n",
    "# Let's make histograms for the two groups.\n",
    "\n",
    "plt.hist(new_pop1, alpha=0.5, label='New Population 1')\n",
    "plt.hist(new_pop2, alpha=0.5, label='New Population 2')\n",
    "plt.legend(loc='upper right')\n",
    "plt.show()\n"
   ]
  },
  {
   "cell_type": "code",
   "execution_count": 145,
   "metadata": {},
   "outputs": [
    {
     "data": {
      "image/png": "[encoded data removed]",
      "text/plain": [
       "<Figure size 432x288 with 1 Axes>"
      ]
     },
     "metadata": {
      "needs_background": "light"
     },
     "output_type": "display_data"
    },
    {
     "name": "stdout",
     "output_type": "stream",
     "text": [
      "New Sample 1 MEAN is:  2.0\n",
      "New Sample 2 MEAN is:  5.01\n",
      "New Sample 1 STANDARD DEVIATION is:  1.2884098726725126\n",
      "New Sample 2 STANDARD DEVIATION is:  1.5264009958068032\n",
      "The DIFFERENCE betwean means is:  3.01\n",
      "The T-VALUE is:  15.06903668331429\n",
      "scipy.stats calculates t-value and p-value: \n",
      "Ttest_indResult(statistic=14.993502189196526, pvalue=3.5131450975995195e-34)\n"
     ]
    }
   ],
   "source": [
    "# Let's take random samples from the new populations and assign the values to variables.\n",
    "\n",
    "new_sample1 = np.random.choice(pop1, 100, replace=True)\n",
    "new_sample2 = np.random.choice(pop2, 100, replace=True)\n",
    "\n",
    "plt.hist(new_sample1, alpha=0.5, label='New Sample 1')\n",
    "plt.hist(new_sample2, alpha=0.5, label='New Sample 2')\n",
    "plt.legend(loc='upper right')\n",
    "plt.show()\n",
    "\n",
    "print('New Sample 1 MEAN is: ', new_sample1.mean())\n",
    "print('New Sample 2 MEAN is: ', new_sample2.mean())\n",
    "print('New Sample 1 STANDARD DEVIATION is: ', new_sample1.std())\n",
    "print('New Sample 2 STANDARD DEVIATION is: ', new_sample2.std())\n",
    "\n",
    "# Compute the difference between the two sample means.\n",
    "new_diff = new_sample2.mean( ) - new_sample1.mean()\n",
    "print('The DIFFERENCE betwean means is: ', new_diff)\n",
    "\n",
    "new_size = np.array([len(new_sample1), len(new_sample2)])\n",
    "new_sd = np.array([new_sample1.std(), new_sample2.std()])\n",
    "\n",
    "# The squared standard deviations are divided by the sample size and summed, then we take\n",
    "# the square root of the sum. \n",
    "new_diff_se = (sum(new_sd ** 2 / new_size)) ** 0.5  \n",
    "\n",
    "#The difference between the means divided by the standard error: T-value.  \n",
    "\n",
    "new_t_value = new_diff/new_diff_se\n",
    "\n",
    "print('The T-VALUE is: ', new_t_value)\n",
    "print('scipy.stats calculates t-value and p-value: ')\n",
    "from scipy.stats import ttest_ind\n",
    "print(ttest_ind(new_sample2, new_sample1, equal_var=False))\n"
   ]
  },
  {
   "cell_type": "code",
   "execution_count": 146,
   "metadata": {},
   "outputs": [
    {
     "data": {
      "image/png": "[encoded data removed]",
      "text/plain": [
       "<Figure size 432x288 with 1 Axes>"
      ]
     },
     "metadata": {
      "needs_background": "light"
     },
     "output_type": "display_data"
    },
    {
     "name": "stdout",
     "output_type": "stream",
     "text": [
      "New Larger Sample 1 MEAN is:  1.948\n",
      "New Larger Sample 2 MEAN is:  5.12\n",
      "New Larger Sample 1 STANDARD DEVIATION is:  1.2430993524252194\n",
      "New Larger Sample 2 STANDARD DEVIATION is:  1.5848028268526024\n",
      "The DIFFERENCE betwean means is:  3.172\n",
      "The T-VALUE is:  49.8007910612512\n",
      "scipy.stats calculates t-value and p-value: \n",
      "Ttest_indResult(statistic=49.775884437507194, pvalue=0.0)\n"
     ]
    }
   ],
   "source": [
    "new_larger_sample1 = np.random.choice(pop1, 1000, replace=True)\n",
    "new_larger_sample2 = np.random.choice(pop2, 1000, replace=True)\n",
    "\n",
    "plt.hist(new_larger_sample1, alpha=0.5, label='New Larger Sample 1')\n",
    "plt.hist(new_larger_sample2, alpha=0.5, label='New Larger Sample 2')\n",
    "plt.legend(loc='upper right')\n",
    "plt.show()\n",
    "\n",
    "print('New Larger Sample 1 MEAN is: ', new_larger_sample1.mean())\n",
    "print('New Larger Sample 2 MEAN is: ', new_larger_sample2.mean())\n",
    "print('New Larger Sample 1 STANDARD DEVIATION is: ', new_larger_sample1.std())\n",
    "print('New Larger Sample 2 STANDARD DEVIATION is: ', new_larger_sample2.std())\n",
    "\n",
    "# Compute the difference between the two sample means.\n",
    "new_diff2=new_larger_sample2.mean( ) - new_larger_sample1.mean()\n",
    "print('The DIFFERENCE betwean means is: ', new_diff2)\n",
    "\n",
    "new_size2 = np.array([len(new_larger_sample1), len(new_larger_sample2)])\n",
    "new_sd2 = np.array([new_larger_sample1.std(), new_larger_sample2.std()])\n",
    "\n",
    "# The squared standard deviations are divided by the sample size and summed, then we take\n",
    "# the square root of the sum. \n",
    "new_diff2_se = (sum(new_sd2 ** 2 / new_size2)) ** 0.5  \n",
    "\n",
    "#The difference between the means divided by the standard error: T-value.  \n",
    "\n",
    "new_t_value2 = new_diff2 / new_diff2_se\n",
    "\n",
    "print('The T-VALUE is: ', new_t_value2)\n",
    "print('scipy.stats calculates t-value and p-value: ')\n",
    "from scipy.stats import ttest_ind\n",
    "print(ttest_ind(new_larger_sample2, new_larger_sample1, equal_var=False))\n"
   ]
  },
  {
   "cell_type": "code",
   "execution_count": 147,
   "metadata": {},
   "outputs": [
    {
     "data": {
      "image/png": "[encoded data removed]",
      "text/plain": [
       "<Figure size 432x288 with 1 Axes>"
      ]
     },
     "metadata": {
      "needs_background": "light"
     },
     "output_type": "display_data"
    },
    {
     "name": "stdout",
     "output_type": "stream",
     "text": [
      "New Tiny Sample 1 MEAN is:  2.1\n",
      "New Tiny Sample 2 MEAN is:  5.35\n",
      "New Tiny Sample 1 STANDARD DEVIATION is:  1.2206555615733703\n",
      "New Tiny Sample 2 STANDARD DEVIATION is:  1.2359207094308275\n",
      "The DIFFERENCE betwean means is:  3.2499999999999996\n",
      "The T-VALUE is:  8.367095374390235\n",
      "scipy.stats calculates t-value and p-value: \n",
      "Ttest_indResult(statistic=8.1552357877584, pvalue=7.142974410571409e-10)\n"
     ]
    }
   ],
   "source": [
    "new_tiny_sample1 = np.random.choice(pop1, 20, replace=True)\n",
    "new_tiny_sample2 = np.random.choice(pop2, 20, replace=True)\n",
    "\n",
    "plt.hist(new_tiny_sample1, alpha=0.5, label='New Tiny Sample 1')\n",
    "plt.hist(new_tiny_sample2, alpha=0.5, label='New Tiny Sample 2')\n",
    "plt.legend(loc='upper right')\n",
    "plt.show()\n",
    "\n",
    "print('New Tiny Sample 1 MEAN is: ', new_tiny_sample1.mean())\n",
    "print('New Tiny Sample 2 MEAN is: ', new_tiny_sample2.mean())\n",
    "print('New Tiny Sample 1 STANDARD DEVIATION is: ', new_tiny_sample1.std())\n",
    "print('New Tiny Sample 2 STANDARD DEVIATION is: ', new_tiny_sample2.std())\n",
    "\n",
    "# Compute the difference between the two sample means.\n",
    "new_diff3 = new_tiny_sample2.mean( ) - new_tiny_sample1.mean()\n",
    "print('The DIFFERENCE betwean means is: ', new_diff3)\n",
    "\n",
    "new_size3 = np.array([len(new_tiny_sample1), len(new_tiny_sample2)])\n",
    "new_sd3 = np.array([new_tiny_sample1.std(), new_tiny_sample2.std()])\n",
    "\n",
    "# The squared standard deviations are divided by the sample size and summed, then we take\n",
    "# the square root of the sum. \n",
    "new_diff3_se = (sum(new_sd3 ** 2 / new_size3)) ** 0.5  \n",
    "\n",
    "#The difference between the means divided by the standard error: T-value.  \n",
    "\n",
    "new_t_value3 = new_diff3 / new_diff3_se\n",
    "\n",
    "print('The T-VALUE is: ', new_t_value3)\n",
    "print('scipy.stats calculates t-value and p-value: ')\n",
    "from scipy.stats import ttest_ind\n",
    "print(ttest_ind(new_tiny_sample2, new_tiny_sample1, equal_var=False))\n"
   ]
  },
  {
   "cell_type": "code",
   "execution_count": null,
   "metadata": {},
   "outputs": [],
   "source": [
    "# (#3.) YES, the sample mean values are accurate enough."
   ]
  },
  {
   "cell_type": "code",
   "execution_count": 152,
   "metadata": {},
   "outputs": [
    {
     "data": {
      "image/png": "[encoded data removed]",
      "text/plain": [
       "<Figure size 432x288 with 1 Axes>"
      ]
     },
     "metadata": {
      "needs_background": "light"
     },
     "output_type": "display_data"
    }
   ],
   "source": [
    "# Creating the populations for question #3, using a normal distribution.\n",
    "mu, sigma = 0, 0.1 # mean and standard deviation\n",
    "pop1 = np.random.normal(mu, sigma, 10000)\n",
    "pop2 = np.random.normal(mu, sigma, 10000)\n",
    "\n",
    "# Let's make histograms for the two groups. As you can easily see, 95% of all values are within 2 SDs of mean.\n",
    "\n",
    "plt.hist(pop1, alpha=0.5, label='Population 1')\n",
    "plt.hist(pop2, alpha=0.5, label='Population 2')\n",
    "plt.legend(loc='upper right')\n",
    "plt.show()"
   ]
  },
  {
   "cell_type": "code",
   "execution_count": 153,
   "metadata": {},
   "outputs": [
    {
     "data": {
      "image/png": "[encoded data removed]",
      "text/plain": [
       "<Figure size 432x288 with 1 Axes>"
      ]
     },
     "metadata": {
      "needs_background": "light"
     },
     "output_type": "display_data"
    },
    {
     "name": "stdout",
     "output_type": "stream",
     "text": [
      "Sample 1 MEAN is:  0.0064760513508723035\n",
      "Sample 2 MEAN is:  0.00793931563552802\n",
      "Sample 1 STANDARD DEVIATION is:  0.1111049915436162\n",
      "Sample 2 STANDARD DEVIATION is:  0.10830633595057514\n",
      "The DIFFERENCE betwean means is:  0.0014632642846557162\n",
      "The T-VALUE is:  0.09430688471612149\n",
      "scipy.stats calculates t-value and p-value: \n",
      "Ttest_indResult(statistic=0.0938341655252032, pvalue=0.9253358370389629)\n"
     ]
    }
   ],
   "source": [
    "# Let's take random samples from the populations and assign the values to variables.\n",
    "sample1 = np.random.choice(pop1, 100, replace=True)\n",
    "sample2 = np.random.choice(pop2, 100, replace=True)\n",
    "\n",
    "plt.hist(sample1, alpha=0.5, label='Sample 1')\n",
    "plt.hist(sample2, alpha=0.5, label='Sample 2')\n",
    "plt.legend(loc='upper right')\n",
    "plt.show()\n",
    "\n",
    "print('Sample 1 MEAN is: ', sample1.mean())\n",
    "print('Sample 2 MEAN is: ', sample2.mean())\n",
    "print('Sample 1 STANDARD DEVIATION is: ', sample1.std())\n",
    "print('Sample 2 STANDARD DEVIATION is: ', sample2.std())\n",
    "\n",
    "# Compute the difference between the two sample means.\n",
    "diff=sample2.mean( ) - sample1.mean()\n",
    "print('The DIFFERENCE betwean means is: ', diff)\n",
    "\n",
    "size = np.array([len(sample1), len(sample2)])\n",
    "sd = np.array([sample1.std(), sample2.std()])\n",
    "\n",
    "# The squared standard deviations are divided by the sample size and summed, then we take\n",
    "# the square root of the sum. \n",
    "diff_se = (sum(sd ** 2 / size)) ** 0.5  \n",
    "\n",
    "# The difference between the means divided by the standard error: T-value.  \n",
    "print('The T-VALUE is: ', diff/diff_se)\n",
    "print('scipy.stats calculates t-value and p-value: ')\n",
    "from scipy.stats import ttest_ind\n",
    "print(ttest_ind(sample2, sample1, equal_var=False))"
   ]
  },
  {
   "cell_type": "code",
   "execution_count": 154,
   "metadata": {},
   "outputs": [
    {
     "data": {
      "image/png": "[encoded data removed]",
      "text/plain": [
       "<Figure size 432x288 with 1 Axes>"
      ]
     },
     "metadata": {
      "needs_background": "light"
     },
     "output_type": "display_data"
    },
    {
     "name": "stdout",
     "output_type": "stream",
     "text": [
      "Sample 1 MEAN is:  0.0004934517992761767\n",
      "Sample 2 MEAN is:  -0.00888364056690749\n",
      "Sample 1 STANDARD DEVIATION is:  0.09708904394324393\n",
      "Sample 2 STANDARD DEVIATION is:  0.10244267796453639\n",
      "The DIFFERENCE betwean means is:  -0.009377092366183667\n",
      "The T-VALUE is:  -2.1009464005621172\n",
      "scipy.stats calculates t-value and p-value: \n",
      "Ttest_indResult(statistic=-2.099895664612145, pvalue=0.035863486851763125)\n"
     ]
    }
   ],
   "source": [
    "# Again, let's take random samples from the populations and assign the values to variables (1000 sample size)\n",
    "sample1 = np.random.choice(pop1, 1000, replace=True)\n",
    "sample2 = np.random.choice(pop2, 1000, replace=True)\n",
    "\n",
    "plt.hist(sample1, alpha=0.5, label='Sample 1')\n",
    "plt.hist(sample2, alpha=0.5, label='Sample 2')\n",
    "plt.legend(loc='upper right')\n",
    "plt.show()\n",
    "\n",
    "print('Sample 1 MEAN is: ', sample1.mean())\n",
    "print('Sample 2 MEAN is: ', sample2.mean())\n",
    "print('Sample 1 STANDARD DEVIATION is: ', sample1.std())\n",
    "print('Sample 2 STANDARD DEVIATION is: ', sample2.std())\n",
    "\n",
    "# Compute the difference between the two sample means.\n",
    "diff=sample2.mean( ) - sample1.mean()\n",
    "print('The DIFFERENCE betwean means is: ', diff)\n",
    "\n",
    "size = np.array([len(sample1), len(sample2)])\n",
    "sd = np.array([sample1.std(), sample2.std()])\n",
    "\n",
    "# The squared standard deviations are divided by the sample size and summed, then we take\n",
    "# the square root of the sum. \n",
    "diff_se = (sum(sd ** 2 / size)) ** 0.5  \n",
    "\n",
    "# The difference between the means divided by the standard error: T-value.  \n",
    "print('The T-VALUE is: ', diff/diff_se)\n",
    "print('scipy.stats calculates t-value and p-value: ')\n",
    "from scipy.stats import ttest_ind\n",
    "print(ttest_ind(sample2, sample1, equal_var=False))"
   ]
  },
  {
   "cell_type": "code",
   "execution_count": 155,
   "metadata": {},
   "outputs": [
    {
     "data": {
      "image/png": "[encoded data removed]",
      "text/plain": [
       "<Figure size 432x288 with 1 Axes>"
      ]
     },
     "metadata": {
      "needs_background": "light"
     },
     "output_type": "display_data"
    },
    {
     "name": "stdout",
     "output_type": "stream",
     "text": [
      "Sample 1 MEAN is:  -0.02944613212066426\n",
      "Sample 2 MEAN is:  -0.01887422149052\n",
      "Sample 1 STANDARD DEVIATION is:  0.11924448246188343\n",
      "Sample 2 STANDARD DEVIATION is:  0.08088140128387522\n",
      "The DIFFERENCE betwean means is:  0.01057191063014426\n",
      "The T-VALUE is:  0.32812842063504644\n",
      "scipy.stats calculates t-value and p-value: \n",
      "Ttest_indResult(statistic=0.31982002346167676, pvalue=0.7510951337293136)\n"
     ]
    }
   ],
   "source": [
    "# Finally, let's take a small amount of random samples from the populations and assign the values to variables.\n",
    "sample1 = np.random.choice(pop1, 20, replace=True)\n",
    "sample2 = np.random.choice(pop2, 20, replace=True)\n",
    "\n",
    "plt.hist(sample1, alpha=0.5, label='Sample 1')\n",
    "plt.hist(sample2, alpha=0.5, label='Sample 2')\n",
    "plt.legend(loc='upper right')\n",
    "plt.show()\n",
    "\n",
    "print('Sample 1 MEAN is: ', sample1.mean())\n",
    "print('Sample 2 MEAN is: ', sample2.mean())\n",
    "print('Sample 1 STANDARD DEVIATION is: ', sample1.std())\n",
    "print('Sample 2 STANDARD DEVIATION is: ', sample2.std())\n",
    "\n",
    "# Compute the difference between the two sample means.\n",
    "diff=sample2.mean( ) - sample1.mean()\n",
    "print('The DIFFERENCE betwean means is: ', diff)\n",
    "\n",
    "size = np.array([len(sample1), len(sample2)])\n",
    "sd = np.array([sample1.std(), sample2.std()])\n",
    "\n",
    "# The squared standard deviations are divided by the sample size and summed, then we take\n",
    "# the square root of the sum. \n",
    "diff_se = (sum(sd ** 2 / size)) ** 0.5  \n",
    "\n",
    "# The difference between the means divided by the standard error: T-value.  \n",
    "print('The T-VALUE is: ', diff/diff_se)\n",
    "print('scipy.stats calculates t-value and p-value: ')\n",
    "from scipy.stats import ttest_ind\n",
    "print(ttest_ind(sample2, sample1, equal_var=False))"
   ]
  },
  {
   "cell_type": "code",
   "execution_count": null,
   "metadata": {},
   "outputs": [],
   "source": []
  }
 ],
 "metadata": {
  "kernelspec": {
   "display_name": "Python 3",
   "language": "python",
   "name": "python3"
  },
  "language_info": {
   "codemirror_mode": {
    "name": "ipython",
    "version": 3
   },
   "file_extension": ".py",
   "mimetype": "text/x-python",
   "name": "python",
   "nbconvert_exporter": "python",
   "pygments_lexer": "ipython3",
   "version": "3.6.6"
  }
 },
 "nbformat": 4,
 "nbformat_minor": 2
}
